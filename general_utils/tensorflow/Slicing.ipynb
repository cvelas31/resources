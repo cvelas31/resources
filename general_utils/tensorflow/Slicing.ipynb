{
 "cells": [
  {
   "cell_type": "code",
   "execution_count": 2,
   "metadata": {},
   "outputs": [],
   "source": [
    "import tensorflow as tf\n",
    "import numpy as np"
   ]
  },
  {
   "cell_type": "code",
   "execution_count": 3,
   "metadata": {},
   "outputs": [
    {
     "data": {
      "text/plain": [
       "'2.0.0'"
      ]
     },
     "execution_count": 3,
     "metadata": {},
     "output_type": "execute_result"
    }
   ],
   "source": [
    "tf.__version__"
   ]
  },
  {
   "cell_type": "code",
   "execution_count": 4,
   "metadata": {},
   "outputs": [],
   "source": [
    "a = np.random.random((4, 8, 12))"
   ]
  },
  {
   "cell_type": "code",
   "execution_count": 6,
   "metadata": {},
   "outputs": [
    {
     "data": {
      "text/plain": [
       "(4, 8, 12)"
      ]
     },
     "execution_count": 6,
     "metadata": {},
     "output_type": "execute_result"
    }
   ],
   "source": [
    "a.shape"
   ]
  },
  {
   "cell_type": "code",
   "execution_count": 13,
   "metadata": {},
   "outputs": [
    {
     "ename": "TypeError",
     "evalue": "unsupported operand type(s) for *: 'range' and 'int'",
     "output_type": "error",
     "traceback": [
      "\u001b[0;31m---------------------------------------------------------------------------\u001b[0m",
      "\u001b[0;31mTypeError\u001b[0m                                 Traceback (most recent call last)",
      "\u001b[0;32m<ipython-input-13-8c3070dba0db>\u001b[0m in \u001b[0;36m<module>\u001b[0;34m\u001b[0m\n\u001b[0;32m----> 1\u001b[0;31m \u001b[0ma\u001b[0m\u001b[0;34m[\u001b[0m\u001b[0mrange\u001b[0m\u001b[0;34m(\u001b[0m\u001b[0ma\u001b[0m\u001b[0;34m.\u001b[0m\u001b[0mshape\u001b[0m\u001b[0;34m[\u001b[0m\u001b[0;36m0\u001b[0m\u001b[0;34m]\u001b[0m\u001b[0;34m)\u001b[0m\u001b[0;34m*\u001b[0m\u001b[0;36m8\u001b[0m\u001b[0;34m,\u001b[0m\u001b[0mrange\u001b[0m\u001b[0;34m(\u001b[0m\u001b[0ma\u001b[0m\u001b[0;34m.\u001b[0m\u001b[0mshape\u001b[0m\u001b[0;34m[\u001b[0m\u001b[0;36m1\u001b[0m\u001b[0;34m]\u001b[0m\u001b[0;34m)\u001b[0m\u001b[0;34m*\u001b[0m\u001b[0;36m4\u001b[0m\u001b[0;34m,\u001b[0m \u001b[0;34m:\u001b[0m\u001b[0;34m]\u001b[0m\u001b[0;34m.\u001b[0m\u001b[0mshape\u001b[0m\u001b[0;34m\u001b[0m\u001b[0m\n\u001b[0m",
      "\u001b[0;31mTypeError\u001b[0m: unsupported operand type(s) for *: 'range' and 'int'"
     ]
    }
   ],
   "source": [
    "a[range(a.shape[0])*8,range(a.shape[1]), :].shape"
   ]
  },
  {
   "cell_type": "code",
   "execution_count": 14,
   "metadata": {},
   "outputs": [],
   "source": [
    "input_tf = tf.Variable([ [9.968594,  8.655439,  0.,        0.       ],\n",
    "                         [0.,        8.3356,    0.,        8.8974   ],\n",
    "                         [0.,        0.,        6.103182,  7.330564 ],\n",
    "                         [6.609862,  0.,        3.0614321, 0.       ],\n",
    "                         [9.497023,  0.,        3.8914037, 0.       ],\n",
    "                         [0.,        8.457685,  8.602337,  0.       ],\n",
    "                         [0.,        0.,        5.826657,  8.283971 ],\n",
    "                         [0.,        0.,        0.,        0.       ]])\n",
    "rows_tf = tf.constant (\n",
    "[[1, 2, 5],\n",
    " [1, 2, 5],\n",
    " [1, 2, 5],\n",
    " [1, 4, 6],\n",
    " [1, 4, 6],\n",
    " [2, 3, 6],\n",
    " [2, 3, 6],\n",
    " [2, 4, 7]])\n",
    "columns_tf = tf.constant(\n",
    "[[1],\n",
    " [2],\n",
    " [3],\n",
    " [2],\n",
    " [3],\n",
    " [2],\n",
    " [3],\n",
    " [2]])\n",
    "rows_tf = tf.reshape(rows_tf, shape=[-1, 1])\n",
    "columns_tf = tf.reshape(\n",
    "    tf.tile(columns_tf, multiples=[1, 3]), \n",
    "    shape=[-1, 1])\n",
    "sparse_indices = tf.reshape(\n",
    "    tf.concat([rows_tf, columns_tf], axis=-1), \n",
    "    shape=[-1, 2])\n",
    "\n",
    "v = tf.gather_nd(input_tf, sparse_indices)\n",
    "v = tf.reshape(v, [-1, 3])\n"
   ]
  },
  {
   "cell_type": "code",
   "execution_count": 18,
   "metadata": {},
   "outputs": [
    {
     "data": {
      "text/plain": [
       "<tf.Tensor: id=11, shape=(24, 1), dtype=int32, numpy=\n",
       "array([[1],\n",
       "       [2],\n",
       "       [5],\n",
       "       [1],\n",
       "       [2],\n",
       "       [5],\n",
       "       [1],\n",
       "       [2],\n",
       "       [5],\n",
       "       [1],\n",
       "       [4],\n",
       "       [6],\n",
       "       [1],\n",
       "       [4],\n",
       "       [6],\n",
       "       [2],\n",
       "       [3],\n",
       "       [6],\n",
       "       [2],\n",
       "       [3],\n",
       "       [6],\n",
       "       [2],\n",
       "       [4],\n",
       "       [7]], dtype=int32)>"
      ]
     },
     "execution_count": 18,
     "metadata": {},
     "output_type": "execute_result"
    }
   ],
   "source": [
    "rows_tf"
   ]
  },
  {
   "cell_type": "code",
   "execution_count": 21,
   "metadata": {},
   "outputs": [
    {
     "data": {
      "text/plain": [
       "<tf.Tensor: id=15, shape=(24, 1), dtype=int32, numpy=\n",
       "array([[1],\n",
       "       [1],\n",
       "       [1],\n",
       "       [2],\n",
       "       [2],\n",
       "       [2],\n",
       "       [3],\n",
       "       [3],\n",
       "       [3],\n",
       "       [2],\n",
       "       [2],\n",
       "       [2],\n",
       "       [3],\n",
       "       [3],\n",
       "       [3],\n",
       "       [2],\n",
       "       [2],\n",
       "       [2],\n",
       "       [3],\n",
       "       [3],\n",
       "       [3],\n",
       "       [2],\n",
       "       [2],\n",
       "       [2]], dtype=int32)>"
      ]
     },
     "execution_count": 21,
     "metadata": {},
     "output_type": "execute_result"
    }
   ],
   "source": [
    "columns_tf"
   ]
  },
  {
   "cell_type": "code",
   "execution_count": 22,
   "metadata": {},
   "outputs": [
    {
     "data": {
      "text/plain": [
       "<tf.Tensor: id=19, shape=(24, 2), dtype=int32, numpy=\n",
       "array([[1, 1],\n",
       "       [2, 1],\n",
       "       [5, 1],\n",
       "       [1, 2],\n",
       "       [2, 2],\n",
       "       [5, 2],\n",
       "       [1, 3],\n",
       "       [2, 3],\n",
       "       [5, 3],\n",
       "       [1, 2],\n",
       "       [4, 2],\n",
       "       [6, 2],\n",
       "       [1, 3],\n",
       "       [4, 3],\n",
       "       [6, 3],\n",
       "       [2, 2],\n",
       "       [3, 2],\n",
       "       [6, 2],\n",
       "       [2, 3],\n",
       "       [3, 3],\n",
       "       [6, 3],\n",
       "       [2, 2],\n",
       "       [4, 2],\n",
       "       [7, 2]], dtype=int32)>"
      ]
     },
     "execution_count": 22,
     "metadata": {},
     "output_type": "execute_result"
    }
   ],
   "source": [
    "sparse_indices"
   ]
  },
  {
   "cell_type": "code",
   "execution_count": 23,
   "metadata": {},
   "outputs": [
    {
     "data": {
      "text/plain": [
       "<tf.Tensor: id=22, shape=(8, 3), dtype=float32, numpy=\n",
       "array([[8.3356   , 0.       , 8.457685 ],\n",
       "       [0.       , 6.103182 , 8.602337 ],\n",
       "       [8.8974   , 7.330564 , 0.       ],\n",
       "       [0.       , 3.8914037, 5.826657 ],\n",
       "       [8.8974   , 0.       , 8.283971 ],\n",
       "       [6.103182 , 3.0614321, 5.826657 ],\n",
       "       [7.330564 , 0.       , 8.283971 ],\n",
       "       [6.103182 , 3.8914037, 0.       ]], dtype=float32)>"
      ]
     },
     "execution_count": 23,
     "metadata": {},
     "output_type": "execute_result"
    }
   ],
   "source": [
    "v"
   ]
  },
  {
   "cell_type": "code",
   "execution_count": null,
   "metadata": {},
   "outputs": [],
   "source": []
  },
  {
   "cell_type": "code",
   "execution_count": null,
   "metadata": {},
   "outputs": [],
   "source": []
  },
  {
   "cell_type": "code",
   "execution_count": 225,
   "metadata": {},
   "outputs": [],
   "source": [
    "batch_dims = 1\n",
    "#indices = [[[0, 0], [0,1]], [[0, 0], [0,1]]]\n",
    "indices = [[[0], [2], [3]]]\n",
    "params = [[['a0', 'b0', 'c0'], ['d0', 'e0', 'f0'], ['g0', 'h0', 'i0'], ['j0', 'k0', 'l0']],\n",
    "          [['a1', 'b1', 'c1'], ['d1', 'e1', 'f1'], ['g1', 'h1', 'i1'], ['j1', 'k1', 'l1']],\n",
    "          [['a2', 'b2', 'c2'], ['d2', 'e2', 'f2'], ['g2', 'h2', 'i2'], ['j2', 'k2', 'l2']],\n",
    "          [['a3', 'b3', 'c3'], ['d3', 'e3', 'f3'], ['g3', 'h3', 'i3'], ['j3', 'k3', 'l3']],\n",
    "          [['a3', 'b3', 'c3'], ['d3', 'e3', 'f3'], ['g3', 'h3', 'i3'], ['j4', 'k4', 'l4']]]\n",
    "output = [['c0'], ['b1']]"
   ]
  },
  {
   "cell_type": "code",
   "execution_count": 226,
   "metadata": {},
   "outputs": [
    {
     "data": {
      "text/plain": [
       "<tf.Tensor: id=3151, shape=(5, 4, 3), dtype=string, numpy=\n",
       "array([[[b'a0', b'b0', b'c0'],\n",
       "        [b'd0', b'e0', b'f0'],\n",
       "        [b'g0', b'h0', b'i0'],\n",
       "        [b'j0', b'k0', b'l0']],\n",
       "\n",
       "       [[b'a1', b'b1', b'c1'],\n",
       "        [b'd1', b'e1', b'f1'],\n",
       "        [b'g1', b'h1', b'i1'],\n",
       "        [b'j1', b'k1', b'l1']],\n",
       "\n",
       "       [[b'a2', b'b2', b'c2'],\n",
       "        [b'd2', b'e2', b'f2'],\n",
       "        [b'g2', b'h2', b'i2'],\n",
       "        [b'j2', b'k2', b'l2']],\n",
       "\n",
       "       [[b'a3', b'b3', b'c3'],\n",
       "        [b'd3', b'e3', b'f3'],\n",
       "        [b'g3', b'h3', b'i3'],\n",
       "        [b'j3', b'k3', b'l3']],\n",
       "\n",
       "       [[b'a3', b'b3', b'c3'],\n",
       "        [b'd3', b'e3', b'f3'],\n",
       "        [b'g3', b'h3', b'i3'],\n",
       "        [b'j4', b'k4', b'l4']]], dtype=object)>"
      ]
     },
     "execution_count": 226,
     "metadata": {},
     "output_type": "execute_result"
    }
   ],
   "source": [
    "tf_params = tf.convert_to_tensor(params)\n",
    "tf_params"
   ]
  },
  {
   "cell_type": "code",
   "execution_count": 227,
   "metadata": {},
   "outputs": [
    {
     "data": {
      "text/plain": [
       "<tf.Tensor: id=3154, shape=(5, 3, 1), dtype=int32, numpy=\n",
       "array([[[0],\n",
       "        [2],\n",
       "        [3]],\n",
       "\n",
       "       [[0],\n",
       "        [2],\n",
       "        [3]],\n",
       "\n",
       "       [[0],\n",
       "        [2],\n",
       "        [3]],\n",
       "\n",
       "       [[0],\n",
       "        [2],\n",
       "        [3]],\n",
       "\n",
       "       [[0],\n",
       "        [2],\n",
       "        [3]]], dtype=int32)>"
      ]
     },
     "execution_count": 227,
     "metadata": {},
     "output_type": "execute_result"
    }
   ],
   "source": [
    "tf_indices = tf.convert_to_tensor(indices)\n",
    "tf_indices =tf.tile(tf_indices, tf.constant([5, 1, 1]))\n",
    "tf_indices"
   ]
  },
  {
   "cell_type": "code",
   "execution_count": 230,
   "metadata": {},
   "outputs": [
    {
     "data": {
      "text/plain": [
       "<tf.Tensor: id=3307, shape=(5, 3, 3), dtype=string, numpy=\n",
       "array([[[b'a0', b'b0', b'c0'],\n",
       "        [b'g0', b'h0', b'i0'],\n",
       "        [b'j0', b'k0', b'l0']],\n",
       "\n",
       "       [[b'a1', b'b1', b'c1'],\n",
       "        [b'g1', b'h1', b'i1'],\n",
       "        [b'j1', b'k1', b'l1']],\n",
       "\n",
       "       [[b'a2', b'b2', b'c2'],\n",
       "        [b'g2', b'h2', b'i2'],\n",
       "        [b'j2', b'k2', b'l2']],\n",
       "\n",
       "       [[b'a3', b'b3', b'c3'],\n",
       "        [b'g3', b'h3', b'i3'],\n",
       "        [b'j3', b'k3', b'l3']],\n",
       "\n",
       "       [[b'a3', b'b3', b'c3'],\n",
       "        [b'g3', b'h3', b'i3'],\n",
       "        [b'j4', b'k4', b'l4']]], dtype=object)>"
      ]
     },
     "execution_count": 230,
     "metadata": {},
     "output_type": "execute_result"
    }
   ],
   "source": [
    "tf.gather_nd(tf_params, tf_indices, batch_dims=1)"
   ]
  },
  {
   "cell_type": "markdown",
   "metadata": {},
   "source": [
    "# Slicing example"
   ]
  },
  {
   "cell_type": "code",
   "execution_count": 297,
   "metadata": {},
   "outputs": [],
   "source": [
    "@tf.function \n",
    "def slicing_list(tensor, indices, axis=1):\n",
    "    \"\"\"\n",
    "    Slice some indices as numpy.\n",
    "    Ex: Tensor[:, indices, :] with axis=1\n",
    "    \"\"\"\n",
    "    tensor_shape = tf.shape(tensor)\n",
    "    indices = tf.convert_to_tensor(indices)\n",
    "    for i in range(tensor_shape.shape[0]):\n",
    "        if i<axis:\n",
    "            indices = tf.expand_dims(indices, 0)\n",
    "        elif i>axis:\n",
    "            indices = tf.expand_dims(indices, -1)\n",
    "    multiplier = tf.stack([tensor_shape[0], 1, 1], axis=-1)\n",
    "    indices = tf.tile(indices, multiplier)\n",
    "    print(indices)\n",
    "    output = tf.gather_nd(tensor, indices, batch_dims=1)\n",
    "    return output"
   ]
  },
  {
   "cell_type": "code",
   "execution_count": 298,
   "metadata": {},
   "outputs": [
    {
     "data": {
      "text/plain": [
       "<tf.Tensor: id=4375, shape=(5, 3, 3), dtype=string, numpy=\n",
       "array([[[b'd0', b'e0', b'f0'],\n",
       "        [b'a0', b'b0', b'c0'],\n",
       "        [b'j0', b'k0', b'l0']],\n",
       "\n",
       "       [[b'd1', b'e1', b'f1'],\n",
       "        [b'a1', b'b1', b'c1'],\n",
       "        [b'j1', b'k1', b'l1']],\n",
       "\n",
       "       [[b'd2', b'e2', b'f2'],\n",
       "        [b'a2', b'b2', b'c2'],\n",
       "        [b'j2', b'k2', b'l2']],\n",
       "\n",
       "       [[b'd3', b'e3', b'f3'],\n",
       "        [b'a3', b'b3', b'c3'],\n",
       "        [b'j3', b'k3', b'l3']],\n",
       "\n",
       "       [[b'd3', b'e3', b'f3'],\n",
       "        [b'a3', b'b3', b'c3'],\n",
       "        [b'j4', b'k4', b'l4']]], dtype=object)>"
      ]
     },
     "execution_count": 298,
     "metadata": {},
     "output_type": "execute_result"
    }
   ],
   "source": [
    "output"
   ]
  },
  {
   "cell_type": "code",
   "execution_count": null,
   "metadata": {},
   "outputs": [],
   "source": []
  }
 ],
 "metadata": {
  "kernelspec": {
   "display_name": "Python [conda env:general]",
   "language": "python",
   "name": "conda-env-general-py"
  },
  "language_info": {
   "codemirror_mode": {
    "name": "ipython",
    "version": 3
   },
   "file_extension": ".py",
   "mimetype": "text/x-python",
   "name": "python",
   "nbconvert_exporter": "python",
   "pygments_lexer": "ipython3",
   "version": "3.7.0"
  }
 },
 "nbformat": 4,
 "nbformat_minor": 2
}
